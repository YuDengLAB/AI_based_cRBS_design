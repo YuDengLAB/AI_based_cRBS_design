{
 "cells": [
  {
   "cell_type": "code",
   "execution_count": 1,
   "metadata": {},
   "outputs": [],
   "source": [
    "import numpy as np\n",
    "import pandas as pd\n",
    "\n",
    "data=pd.read_csv(\"./seq/csv/cRBS_long_N_0_1129.csv\")#read csv file\n",
    "data=pd.read_csv(\"./seq/csv/cRBS_long_N_20_1129.csv\")\n",
    "data=pd.read_csv(\"./seq/csv/cRBS_long_R_0_1202.csv\")\n",
    "data=pd.read_csv(\"./seq/csv/cRBS_long_R_20_1202.csv\")\n",
    "cRBS=data.values.tolist()\n",
    "#print(cRBS)"
   ]
  },
  {
   "cell_type": "code",
   "execution_count": 2,
   "metadata": {},
   "outputs": [],
   "source": [
    "import operator\n",
    "from functools import reduce\n",
    "cRBS=reduce(operator.add,cRBS)\n",
    "#print(cRBS)\n",
    "cRBS=np.array(cRBS)\n",
    "#print(cRBS)"
   ]
  },
  {
   "cell_type": "code",
   "execution_count": 3,
   "metadata": {},
   "outputs": [],
   "source": [
    "np.save('./seq/npy/cRBS_long_N_0_1129',cRBS,allow_pickle=True,fix_imports=True)\n",
    "np.save('./seq/npy/cRBS_long_N_20_1129',cRBS,allow_pickle=True,fix_imports=True)\n",
    "np.save('./seq/npy/cRBS_long_R_0_1202',cRBS,allow_pickle=True,fix_imports=True)\n",
    "np.save('./seq/npy/cRBS_long_R_0_1202',cRBS,allow_pickle=True,fix_imports=True)"
   ]
  },
  {
   "cell_type": "code",
   "execution_count": 5,
   "metadata": {},
   "outputs": [],
   "source": [
    "import numpy as np\n",
    "import pandas as pd\n",
    "\n",
    "data=pd.read_csv(\"./seq/csv/Fluorescence_intensity_N_0_1129.csv\")#read csv file\n",
    "data=pd.read_csv(\"./seq/csv/Fluorescence_intensity_N_20_1129.csv\")\n",
    "data=pd.read_csv(\"./seq/csv/Fluorescence_intensity_R_0_1202.csv\")\n",
    "data=pd.read_csv(\"./seq/csv/Fluorescence_intensity_R_20_1202.csv\")\n",
    "Flu=data.values.tolist()\n",
    "#print(Flu)"
   ]
  },
  {
   "cell_type": "code",
   "execution_count": 6,
   "metadata": {},
   "outputs": [],
   "source": [
    "import operator\n",
    "from functools import reduce\n",
    "Flu=reduce(operator.add,Flu)\n",
    "Flu=[\"%.2f\" % x for x in Flu]\n",
    "Flu=np.array(Flu)\n",
    "#print(Flu)"
   ]
  },
  {
   "cell_type": "code",
   "execution_count": 7,
   "metadata": {},
   "outputs": [],
   "source": [
    "np.save('./seq/npy/Fluorescence_intensity_N_0_1129',Flu,allow_pickle=True,fix_imports=True)\n",
    "np.save('./seq/npy/Fluorescence_intensity_N_20_1129',Flu,allow_pickle=True,fix_imports=True)\n",
    "np.save('./seq/npy/Fluorescence_intensity_R_0_1202',Flu,allow_pickle=True,fix_imports=True)\n",
    "np.save('./seq/npy/Fluorescence_intensity_R_20_1202',Flu,allow_pickle=True,fix_imports=True)"
   ]
  }
 ],
 "metadata": {
  "kernelspec": {
   "display_name": "Python 3",
   "language": "python",
   "name": "python3"
  },
  "language_info": {
   "codemirror_mode": {
    "name": "ipython",
    "version": 3
   },
   "file_extension": ".py",
   "mimetype": "text/x-python",
   "name": "python",
   "nbconvert_exporter": "python",
   "pygments_lexer": "ipython3",
   "version": "3.8.3"
  }
 },
 "nbformat": 4,
 "nbformat_minor": 4
}
